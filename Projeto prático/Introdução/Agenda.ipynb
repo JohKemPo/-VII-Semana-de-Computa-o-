{
 "cells": [
  {
   "cell_type": "markdown",
   "metadata": {},
   "source": [
    "Implemente uma agenda de contatos em Python que pode ser feito em grupo de 2 a 5 pessoas para praticar o versionamento de código em equipe.\n",
    "\n",
    "Crie um repositório Git para o projeto e divida as tarefas entre os membros da equipe. Teste prático de como clonar o repositório, criar ramificações, realizar commits e mesclar as alterações. Também é importante definir um fluxo de trabalho claro, como quem será responsável por quais partes do código.\n",
    "\n",
    "Implementem uma agenda básica com as funcionalidade:\n",
    "\n",
    "- Adicionar contatos.\n",
    "- Listar contatos.\n",
    "- Buscar contatos.\n",
    "- Deletar contatos.\n",
    "- Menu iterativo das opções anteriores."
   ]
  },
  {
   "cell_type": "code",
   "execution_count": 4,
   "metadata": {},
   "outputs": [
    {
     "name": "stdout",
     "output_type": "stream",
     "text": [
      "sua lista atual de contatos \n",
      " []\n",
      "Este contato nao esta na sua lista de contatos\n",
      "sua nova lista de contatos  ['1231', '123']\n",
      "sua lista atual de contatos \n",
      " ['1231', '123']\n",
      "Contato de numero 2\n",
      "sua lista de contatos e ['1231', '123']\n",
      "sua lista atual de contatos \n",
      " ['1231', '123']\n",
      "contatos de numero 2 deletado, o numero era 123\n",
      "sua nova lista de contatos \n",
      " ['1231']\n"
     ]
    }
   ],
   "source": [
    "def main():\n",
    "    contats = []\n",
    "    while 1:\n",
    "        menu = int(input(\"1 para adicionar contatos \\n 2 para buscar entre seus contatos \\n 3 para deletar um contatos \\n 4 para mostrar sua lista de contatos\\n\"))\n",
    "        if menu == 1:\n",
    "            contats = addcont(contats)\n",
    "            print(\"sua nova lista de contatos \", contats, flush = True)\n",
    "        elif menu ==2:\n",
    "            busccont(contats)\n",
    "        elif menu == 3:\n",
    "            contdeletado, cas = delcont(contats)\n",
    "            if contdeletado != 'nao':\n",
    "                del contats[contdeletado - 1]\n",
    "                print(f'contatos de numero {contdeletado} deletado, o numero era {cas}', flush = True)\n",
    "                print(f'sua nova lista de contatos \\n {contats}', flush = True)\n",
    "        elif menu == 4:\n",
    "            print('sua lista de contatos e', contats, flush = True)\n",
    "        else:\n",
    "            break\n",
    "def busccont(contatos):\n",
    "    print('sua lista atual de contatos \\n', contatos, flush = True)\n",
    "    busca = input()\n",
    "    print('Contato de numero', contatos.index(busca) + 1, flush = True)\n",
    "    \n",
    "def delcont(contatos):\n",
    "    print('sua lista atual de contatos \\n', contatos, flush = True)\n",
    "    deletado = input('insira contato para deletar')\n",
    "    if deletado in contatos:\n",
    "        return contatos.index(deletado) + 1, contatos[contatos.index(deletado)]\n",
    "    print('Este contato nao esta na sua lista de contatos', flush=True)\n",
    "    return 'nao' , 1\n",
    "def addcont(contatos):\n",
    "    contatos.append(input('insira um contato para adicionar'))\n",
    "    if input('quer adicionar mais algum contato? \\n S para sim\\n').upper() == 'S':\n",
    "        addcont(contatos)\n",
    "    return contatos\n",
    "main()    "
   ]
  }
 ],
 "metadata": {
  "kernelspec": {
   "display_name": "base",
   "language": "python",
   "name": "python3"
  },
  "language_info": {
   "codemirror_mode": {
    "name": "ipython",
    "version": 3
   },
   "file_extension": ".py",
   "mimetype": "text/x-python",
   "name": "python",
   "nbconvert_exporter": "python",
   "pygments_lexer": "ipython3",
   "version": "3.11.5"
  }
 },
 "nbformat": 4,
 "nbformat_minor": 2
}
